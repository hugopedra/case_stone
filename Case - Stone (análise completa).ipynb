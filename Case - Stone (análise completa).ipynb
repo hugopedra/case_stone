{
 "cells": [
  {
   "cell_type": "markdown",
   "metadata": {},
   "source": [
    "# Carregue, trate e converta o arquivo (.pkl para .csv)"
   ]
  },
  {
   "cell_type": "code",
   "execution_count": 1,
   "metadata": {},
   "outputs": [],
   "source": [
    "# Importe as bibliotecas aqui:\n",
    "import pandas as pd\n",
    "import pickle"
   ]
  },
  {
   "cell_type": "code",
   "execution_count": 2,
   "metadata": {},
   "outputs": [
    {
     "data": {
      "text/html": [
       "<div>\n",
       "<style scoped>\n",
       "    .dataframe tbody tr th:only-of-type {\n",
       "        vertical-align: middle;\n",
       "    }\n",
       "\n",
       "    .dataframe tbody tr th {\n",
       "        vertical-align: top;\n",
       "    }\n",
       "\n",
       "    .dataframe thead th {\n",
       "        text-align: right;\n",
       "    }\n",
       "</style>\n",
       "<table border=\"1\" class=\"dataframe\">\n",
       "  <thead>\n",
       "    <tr style=\"text-align: right;\">\n",
       "      <th></th>\n",
       "      <th>id chamado</th>\n",
       "      <th>Data</th>\n",
       "      <th>Time</th>\n",
       "      <th>Ferramenta</th>\n",
       "      <th>Canal</th>\n",
       "      <th>Encantador</th>\n",
       "      <th>TMI</th>\n",
       "    </tr>\n",
       "  </thead>\n",
       "  <tbody>\n",
       "    <tr>\n",
       "      <th>303105</th>\n",
       "      <td>303105</td>\n",
       "      <td>2021-04-30</td>\n",
       "      <td>Alfa</td>\n",
       "      <td>A</td>\n",
       "      <td>WhatsApp</td>\n",
       "      <td>samantha4353@stone.com.br</td>\n",
       "      <td>69.5</td>\n",
       "    </tr>\n",
       "    <tr>\n",
       "      <th>303260</th>\n",
       "      <td>303260</td>\n",
       "      <td>2021-04-30</td>\n",
       "      <td>Sigma</td>\n",
       "      <td>A</td>\n",
       "      <td>WhatsApp</td>\n",
       "      <td>autumn6774@stone.com.br</td>\n",
       "      <td>406.0</td>\n",
       "    </tr>\n",
       "    <tr>\n",
       "      <th>303259</th>\n",
       "      <td>303259</td>\n",
       "      <td>2021-04-30</td>\n",
       "      <td>Sigma</td>\n",
       "      <td>A</td>\n",
       "      <td>WhatsApp</td>\n",
       "      <td>autumn6774@stone.com.br</td>\n",
       "      <td>NaN</td>\n",
       "    </tr>\n",
       "    <tr>\n",
       "      <th>303258</th>\n",
       "      <td>303258</td>\n",
       "      <td>2021-04-30</td>\n",
       "      <td>Sigma</td>\n",
       "      <td>A</td>\n",
       "      <td>WhatsApp</td>\n",
       "      <td>chase8699@stone.com.br</td>\n",
       "      <td>NaN</td>\n",
       "    </tr>\n",
       "    <tr>\n",
       "      <th>303257</th>\n",
       "      <td>303257</td>\n",
       "      <td>2021-04-30</td>\n",
       "      <td>Sigma</td>\n",
       "      <td>A</td>\n",
       "      <td>WhatsApp</td>\n",
       "      <td>chase8699@stone.com.br</td>\n",
       "      <td>55.1</td>\n",
       "    </tr>\n",
       "    <tr>\n",
       "      <th>...</th>\n",
       "      <td>...</td>\n",
       "      <td>...</td>\n",
       "      <td>...</td>\n",
       "      <td>...</td>\n",
       "      <td>...</td>\n",
       "      <td>...</td>\n",
       "      <td>...</td>\n",
       "    </tr>\n",
       "    <tr>\n",
       "      <th>108183</th>\n",
       "      <td>108183</td>\n",
       "      <td>2021-09-22</td>\n",
       "      <td>Alfa</td>\n",
       "      <td>A</td>\n",
       "      <td>WhatsApp</td>\n",
       "      <td>miranda3212@stone.com.br</td>\n",
       "      <td>36.7</td>\n",
       "    </tr>\n",
       "    <tr>\n",
       "      <th>108182</th>\n",
       "      <td>108182</td>\n",
       "      <td>2021-09-22</td>\n",
       "      <td>Alfa</td>\n",
       "      <td>A</td>\n",
       "      <td>Chat</td>\n",
       "      <td>frederick5457@stone.com.br</td>\n",
       "      <td>45.8</td>\n",
       "    </tr>\n",
       "    <tr>\n",
       "      <th>108181</th>\n",
       "      <td>108181</td>\n",
       "      <td>2021-09-22</td>\n",
       "      <td>Alfa</td>\n",
       "      <td>A</td>\n",
       "      <td>Chat</td>\n",
       "      <td>brandy9846@stone.com.br</td>\n",
       "      <td>14.0</td>\n",
       "    </tr>\n",
       "    <tr>\n",
       "      <th>108191</th>\n",
       "      <td>108191</td>\n",
       "      <td>2021-09-22</td>\n",
       "      <td>Alfa</td>\n",
       "      <td>A</td>\n",
       "      <td>WhatsApp</td>\n",
       "      <td>johnny7750@stone.com.br</td>\n",
       "      <td>542.0</td>\n",
       "    </tr>\n",
       "    <tr>\n",
       "      <th>107858</th>\n",
       "      <td>107858</td>\n",
       "      <td>2021-09-22</td>\n",
       "      <td>Delta</td>\n",
       "      <td>A</td>\n",
       "      <td>WhatsApp</td>\n",
       "      <td>christina2145@stone.com.br</td>\n",
       "      <td>11.0</td>\n",
       "    </tr>\n",
       "  </tbody>\n",
       "</table>\n",
       "<p>2980478 rows × 7 columns</p>\n",
       "</div>"
      ],
      "text/plain": [
       "        id chamado       Data   Time Ferramenta     Canal  \\\n",
       "303105      303105 2021-04-30   Alfa          A  WhatsApp   \n",
       "303260      303260 2021-04-30  Sigma          A  WhatsApp   \n",
       "303259      303259 2021-04-30  Sigma          A  WhatsApp   \n",
       "303258      303258 2021-04-30  Sigma          A  WhatsApp   \n",
       "303257      303257 2021-04-30  Sigma          A  WhatsApp   \n",
       "...            ...        ...    ...        ...       ...   \n",
       "108183      108183 2021-09-22   Alfa          A  WhatsApp   \n",
       "108182      108182 2021-09-22   Alfa          A      Chat   \n",
       "108181      108181 2021-09-22   Alfa          A      Chat   \n",
       "108191      108191 2021-09-22   Alfa          A  WhatsApp   \n",
       "107858      107858 2021-09-22  Delta          A  WhatsApp   \n",
       "\n",
       "                        Encantador    TMI  \n",
       "303105   samantha4353@stone.com.br   69.5  \n",
       "303260     autumn6774@stone.com.br  406.0  \n",
       "303259     autumn6774@stone.com.br    NaN  \n",
       "303258      chase8699@stone.com.br    NaN  \n",
       "303257      chase8699@stone.com.br   55.1  \n",
       "...                            ...    ...  \n",
       "108183    miranda3212@stone.com.br   36.7  \n",
       "108182  frederick5457@stone.com.br   45.8  \n",
       "108181     brandy9846@stone.com.br   14.0  \n",
       "108191     johnny7750@stone.com.br  542.0  \n",
       "107858  christina2145@stone.com.br   11.0  \n",
       "\n",
       "[2980478 rows x 7 columns]"
      ]
     },
     "metadata": {},
     "output_type": "display_data"
    }
   ],
   "source": [
    "# Carregue o banco de dados e reset os índices:\n",
    "\n",
    "data = pickle.load(open('Chamados Totais.pkl', \"rb\"))\n",
    "display(data)"
   ]
  },
  {
   "cell_type": "code",
   "execution_count": 3,
   "metadata": {},
   "outputs": [
    {
     "name": "stdout",
     "output_type": "stream",
     "text": [
      "<class 'pandas.core.frame.DataFrame'>\n",
      "Int64Index: 2980478 entries, 303105 to 107858\n",
      "Data columns (total 7 columns):\n",
      " #   Column      Dtype         \n",
      "---  ------      -----         \n",
      " 0   id chamado  int64         \n",
      " 1   Data        datetime64[ns]\n",
      " 2   Time        object        \n",
      " 3   Ferramenta  object        \n",
      " 4   Canal       object        \n",
      " 5   Encantador  object        \n",
      " 6   TMI         float64       \n",
      "dtypes: datetime64[ns](1), float64(1), int64(1), object(4)\n",
      "memory usage: 181.9+ MB\n"
     ]
    }
   ],
   "source": [
    "data.info()"
   ]
  },
  {
   "cell_type": "code",
   "execution_count": 4,
   "metadata": {},
   "outputs": [
    {
     "data": {
      "text/html": [
       "<div>\n",
       "<style scoped>\n",
       "    .dataframe tbody tr th:only-of-type {\n",
       "        vertical-align: middle;\n",
       "    }\n",
       "\n",
       "    .dataframe tbody tr th {\n",
       "        vertical-align: top;\n",
       "    }\n",
       "\n",
       "    .dataframe thead th {\n",
       "        text-align: right;\n",
       "    }\n",
       "</style>\n",
       "<table border=\"1\" class=\"dataframe\">\n",
       "  <thead>\n",
       "    <tr style=\"text-align: right;\">\n",
       "      <th></th>\n",
       "      <th>id chamado</th>\n",
       "      <th>Data</th>\n",
       "      <th>Time</th>\n",
       "      <th>Ferramenta</th>\n",
       "      <th>Canal</th>\n",
       "      <th>Encantador</th>\n",
       "      <th>TMI</th>\n",
       "    </tr>\n",
       "  </thead>\n",
       "  <tbody>\n",
       "    <tr>\n",
       "      <th>0</th>\n",
       "      <td>0</td>\n",
       "      <td>2021-08-01</td>\n",
       "      <td>Alfa</td>\n",
       "      <td>B</td>\n",
       "      <td>WhatsApp</td>\n",
       "      <td>kristy9482@stone.com.br</td>\n",
       "      <td>34.0</td>\n",
       "    </tr>\n",
       "    <tr>\n",
       "      <th>1</th>\n",
       "      <td>0</td>\n",
       "      <td>2021-05-01</td>\n",
       "      <td>Alfa</td>\n",
       "      <td>B</td>\n",
       "      <td>WhatsApp</td>\n",
       "      <td>jerry2853@stone.com.br</td>\n",
       "      <td>8.0</td>\n",
       "    </tr>\n",
       "    <tr>\n",
       "      <th>2</th>\n",
       "      <td>0</td>\n",
       "      <td>2021-08-31</td>\n",
       "      <td>Alfa</td>\n",
       "      <td>B</td>\n",
       "      <td>WhatsApp</td>\n",
       "      <td>david1150@stone.com.br</td>\n",
       "      <td>14.0</td>\n",
       "    </tr>\n",
       "    <tr>\n",
       "      <th>3</th>\n",
       "      <td>1</td>\n",
       "      <td>2021-08-01</td>\n",
       "      <td>Alfa</td>\n",
       "      <td>B</td>\n",
       "      <td>WhatsApp</td>\n",
       "      <td>melinda5227@stone.com.br</td>\n",
       "      <td>25.0</td>\n",
       "    </tr>\n",
       "    <tr>\n",
       "      <th>4</th>\n",
       "      <td>1</td>\n",
       "      <td>2021-05-01</td>\n",
       "      <td>Alfa</td>\n",
       "      <td>B</td>\n",
       "      <td>WhatsApp</td>\n",
       "      <td>spencer8017@stone.com.br</td>\n",
       "      <td>17.0</td>\n",
       "    </tr>\n",
       "    <tr>\n",
       "      <th>...</th>\n",
       "      <td>...</td>\n",
       "      <td>...</td>\n",
       "      <td>...</td>\n",
       "      <td>...</td>\n",
       "      <td>...</td>\n",
       "      <td>...</td>\n",
       "      <td>...</td>\n",
       "    </tr>\n",
       "    <tr>\n",
       "      <th>2980473</th>\n",
       "      <td>983549</td>\n",
       "      <td>2021-08-12</td>\n",
       "      <td>Beta</td>\n",
       "      <td>A</td>\n",
       "      <td>Chat</td>\n",
       "      <td>kevin9582@stone.com.br</td>\n",
       "      <td>22339.0</td>\n",
       "    </tr>\n",
       "    <tr>\n",
       "      <th>2980474</th>\n",
       "      <td>983550</td>\n",
       "      <td>2021-08-12</td>\n",
       "      <td>Beta</td>\n",
       "      <td>A</td>\n",
       "      <td>Chat</td>\n",
       "      <td>kevin9582@stone.com.br</td>\n",
       "      <td>21853.0</td>\n",
       "    </tr>\n",
       "    <tr>\n",
       "      <th>2980475</th>\n",
       "      <td>983551</td>\n",
       "      <td>2021-08-12</td>\n",
       "      <td>Beta</td>\n",
       "      <td>A</td>\n",
       "      <td>Chat</td>\n",
       "      <td>kevin9582@stone.com.br</td>\n",
       "      <td>22018.0</td>\n",
       "    </tr>\n",
       "    <tr>\n",
       "      <th>2980476</th>\n",
       "      <td>983552</td>\n",
       "      <td>2021-08-11</td>\n",
       "      <td>Beta</td>\n",
       "      <td>A</td>\n",
       "      <td>WhatsApp</td>\n",
       "      <td>hannah0554@stone.com.br</td>\n",
       "      <td>59.1</td>\n",
       "    </tr>\n",
       "    <tr>\n",
       "      <th>2980477</th>\n",
       "      <td>983553</td>\n",
       "      <td>2021-08-11</td>\n",
       "      <td>Beta</td>\n",
       "      <td>A</td>\n",
       "      <td>Chat</td>\n",
       "      <td>casey9247@stone.com.br</td>\n",
       "      <td>22.5</td>\n",
       "    </tr>\n",
       "  </tbody>\n",
       "</table>\n",
       "<p>2980478 rows × 7 columns</p>\n",
       "</div>"
      ],
      "text/plain": [
       "         id chamado       Data  Time Ferramenta     Canal  \\\n",
       "0                 0 2021-08-01  Alfa          B  WhatsApp   \n",
       "1                 0 2021-05-01  Alfa          B  WhatsApp   \n",
       "2                 0 2021-08-31  Alfa          B  WhatsApp   \n",
       "3                 1 2021-08-01  Alfa          B  WhatsApp   \n",
       "4                 1 2021-05-01  Alfa          B  WhatsApp   \n",
       "...             ...        ...   ...        ...       ...   \n",
       "2980473      983549 2021-08-12  Beta          A      Chat   \n",
       "2980474      983550 2021-08-12  Beta          A      Chat   \n",
       "2980475      983551 2021-08-12  Beta          A      Chat   \n",
       "2980476      983552 2021-08-11  Beta          A  WhatsApp   \n",
       "2980477      983553 2021-08-11  Beta          A      Chat   \n",
       "\n",
       "                       Encantador      TMI  \n",
       "0         kristy9482@stone.com.br     34.0  \n",
       "1          jerry2853@stone.com.br      8.0  \n",
       "2          david1150@stone.com.br     14.0  \n",
       "3        melinda5227@stone.com.br     25.0  \n",
       "4        spencer8017@stone.com.br     17.0  \n",
       "...                           ...      ...  \n",
       "2980473    kevin9582@stone.com.br  22339.0  \n",
       "2980474    kevin9582@stone.com.br  21853.0  \n",
       "2980475    kevin9582@stone.com.br  22018.0  \n",
       "2980476   hannah0554@stone.com.br     59.1  \n",
       "2980477    casey9247@stone.com.br     22.5  \n",
       "\n",
       "[2980478 rows x 7 columns]"
      ]
     },
     "metadata": {},
     "output_type": "display_data"
    }
   ],
   "source": [
    "# Ordene a tabela pelo número de id chamado apenas para verificar se há \"id chamado\" igual a \"0\":\n",
    "data = data.sort_values('id chamado').reset_index()\n",
    "#display(data)\n",
    "\n",
    "# Exclua a coluna index, pois ao resetar o índice a coluna index é desnecessária\n",
    "data = data.drop(['index'], axis=1)\n",
    "display(data)"
   ]
  },
  {
   "cell_type": "code",
   "execution_count": 5,
   "metadata": {},
   "outputs": [
    {
     "data": {
      "text/html": [
       "<div>\n",
       "<style scoped>\n",
       "    .dataframe tbody tr th:only-of-type {\n",
       "        vertical-align: middle;\n",
       "    }\n",
       "\n",
       "    .dataframe tbody tr th {\n",
       "        vertical-align: top;\n",
       "    }\n",
       "\n",
       "    .dataframe thead th {\n",
       "        text-align: right;\n",
       "    }\n",
       "</style>\n",
       "<table border=\"1\" class=\"dataframe\">\n",
       "  <thead>\n",
       "    <tr style=\"text-align: right;\">\n",
       "      <th></th>\n",
       "      <th>index</th>\n",
       "      <th>id chamado</th>\n",
       "      <th>Data</th>\n",
       "      <th>Time</th>\n",
       "      <th>Ferramenta</th>\n",
       "      <th>Canal</th>\n",
       "      <th>Encantador</th>\n",
       "      <th>TMI</th>\n",
       "    </tr>\n",
       "  </thead>\n",
       "  <tbody>\n",
       "    <tr>\n",
       "      <th>0</th>\n",
       "      <td>1285615</td>\n",
       "      <td>302982</td>\n",
       "      <td>2021-04-30</td>\n",
       "      <td>Alfa</td>\n",
       "      <td>A</td>\n",
       "      <td>Chat</td>\n",
       "      <td>krystal6338@stone.com.br</td>\n",
       "      <td>18.1</td>\n",
       "    </tr>\n",
       "    <tr>\n",
       "      <th>1</th>\n",
       "      <td>1285588</td>\n",
       "      <td>302977</td>\n",
       "      <td>2021-04-30</td>\n",
       "      <td>Alfa</td>\n",
       "      <td>A</td>\n",
       "      <td>Chat</td>\n",
       "      <td>scott6478@stone.com.br</td>\n",
       "      <td>36.9</td>\n",
       "    </tr>\n",
       "    <tr>\n",
       "      <th>2</th>\n",
       "      <td>1286234</td>\n",
       "      <td>303116</td>\n",
       "      <td>2021-04-30</td>\n",
       "      <td>Alfa</td>\n",
       "      <td>A</td>\n",
       "      <td>WhatsApp</td>\n",
       "      <td>shanna4214@stone.com.br</td>\n",
       "      <td>16.2</td>\n",
       "    </tr>\n",
       "    <tr>\n",
       "      <th>3</th>\n",
       "      <td>1285585</td>\n",
       "      <td>302976</td>\n",
       "      <td>2021-04-30</td>\n",
       "      <td>Alfa</td>\n",
       "      <td>A</td>\n",
       "      <td>Chat</td>\n",
       "      <td>scott6478@stone.com.br</td>\n",
       "      <td>18.3</td>\n",
       "    </tr>\n",
       "    <tr>\n",
       "      <th>4</th>\n",
       "      <td>1286232</td>\n",
       "      <td>303115</td>\n",
       "      <td>2021-04-30</td>\n",
       "      <td>Alfa</td>\n",
       "      <td>A</td>\n",
       "      <td>WhatsApp</td>\n",
       "      <td>samantha4353@stone.com.br</td>\n",
       "      <td>26.7</td>\n",
       "    </tr>\n",
       "    <tr>\n",
       "      <th>...</th>\n",
       "      <td>...</td>\n",
       "      <td>...</td>\n",
       "      <td>...</td>\n",
       "      <td>...</td>\n",
       "      <td>...</td>\n",
       "      <td>...</td>\n",
       "      <td>...</td>\n",
       "      <td>...</td>\n",
       "    </tr>\n",
       "    <tr>\n",
       "      <th>2980473</th>\n",
       "      <td>238875</td>\n",
       "      <td>57845</td>\n",
       "      <td>2021-09-22</td>\n",
       "      <td>Beta</td>\n",
       "      <td>A</td>\n",
       "      <td>WhatsApp</td>\n",
       "      <td>shana9685@stone.com.br</td>\n",
       "      <td>28.0</td>\n",
       "    </tr>\n",
       "    <tr>\n",
       "      <th>2980474</th>\n",
       "      <td>238868</td>\n",
       "      <td>57844</td>\n",
       "      <td>2021-09-22</td>\n",
       "      <td>Alfa</td>\n",
       "      <td>A</td>\n",
       "      <td>WhatsApp</td>\n",
       "      <td>darren5277@stone.com.br</td>\n",
       "      <td>28.0</td>\n",
       "    </tr>\n",
       "    <tr>\n",
       "      <th>2980475</th>\n",
       "      <td>238865</td>\n",
       "      <td>57843</td>\n",
       "      <td>2021-09-22</td>\n",
       "      <td>Alfa</td>\n",
       "      <td>A</td>\n",
       "      <td>WhatsApp</td>\n",
       "      <td>nichole1277@stone.com.br</td>\n",
       "      <td>31.0</td>\n",
       "    </tr>\n",
       "    <tr>\n",
       "      <th>2980476</th>\n",
       "      <td>546557</td>\n",
       "      <td>129305</td>\n",
       "      <td>2021-09-22</td>\n",
       "      <td>Alfa</td>\n",
       "      <td>A</td>\n",
       "      <td>WhatsApp</td>\n",
       "      <td>tyler6526@stone.com.br</td>\n",
       "      <td>85.0</td>\n",
       "    </tr>\n",
       "    <tr>\n",
       "      <th>2980477</th>\n",
       "      <td>455386</td>\n",
       "      <td>108201</td>\n",
       "      <td>2021-09-22</td>\n",
       "      <td>Alfa</td>\n",
       "      <td>A</td>\n",
       "      <td>WhatsApp</td>\n",
       "      <td>byron2711@stone.com.br</td>\n",
       "      <td>62.9</td>\n",
       "    </tr>\n",
       "  </tbody>\n",
       "</table>\n",
       "<p>2980478 rows × 8 columns</p>\n",
       "</div>"
      ],
      "text/plain": [
       "           index  id chamado       Data  Time Ferramenta     Canal  \\\n",
       "0        1285615      302982 2021-04-30  Alfa          A      Chat   \n",
       "1        1285588      302977 2021-04-30  Alfa          A      Chat   \n",
       "2        1286234      303116 2021-04-30  Alfa          A  WhatsApp   \n",
       "3        1285585      302976 2021-04-30  Alfa          A      Chat   \n",
       "4        1286232      303115 2021-04-30  Alfa          A  WhatsApp   \n",
       "...          ...         ...        ...   ...        ...       ...   \n",
       "2980473   238875       57845 2021-09-22  Beta          A  WhatsApp   \n",
       "2980474   238868       57844 2021-09-22  Alfa          A  WhatsApp   \n",
       "2980475   238865       57843 2021-09-22  Alfa          A  WhatsApp   \n",
       "2980476   546557      129305 2021-09-22  Alfa          A  WhatsApp   \n",
       "2980477   455386      108201 2021-09-22  Alfa          A  WhatsApp   \n",
       "\n",
       "                        Encantador   TMI  \n",
       "0         krystal6338@stone.com.br  18.1  \n",
       "1           scott6478@stone.com.br  36.9  \n",
       "2          shanna4214@stone.com.br  16.2  \n",
       "3           scott6478@stone.com.br  18.3  \n",
       "4        samantha4353@stone.com.br  26.7  \n",
       "...                            ...   ...  \n",
       "2980473     shana9685@stone.com.br  28.0  \n",
       "2980474    darren5277@stone.com.br  28.0  \n",
       "2980475   nichole1277@stone.com.br  31.0  \n",
       "2980476     tyler6526@stone.com.br  85.0  \n",
       "2980477     byron2711@stone.com.br  62.9  \n",
       "\n",
       "[2980478 rows x 8 columns]"
      ]
     },
     "metadata": {},
     "output_type": "display_data"
    }
   ],
   "source": [
    "# Ordene a tabela pelo número de Data:\n",
    "data = data.sort_values('Data').reset_index()\n",
    "display(data)"
   ]
  },
  {
   "cell_type": "markdown",
   "metadata": {},
   "source": [
    "\n",
    "- Conclusão:\n",
    "-> Conjunto de dados é do período: abril-setembro de 2021"
   ]
  },
  {
   "cell_type": "code",
   "execution_count": 6,
   "metadata": {},
   "outputs": [
    {
     "data": {
      "text/html": [
       "<div>\n",
       "<style scoped>\n",
       "    .dataframe tbody tr th:only-of-type {\n",
       "        vertical-align: middle;\n",
       "    }\n",
       "\n",
       "    .dataframe tbody tr th {\n",
       "        vertical-align: top;\n",
       "    }\n",
       "\n",
       "    .dataframe thead th {\n",
       "        text-align: right;\n",
       "    }\n",
       "</style>\n",
       "<table border=\"1\" class=\"dataframe\">\n",
       "  <thead>\n",
       "    <tr style=\"text-align: right;\">\n",
       "      <th></th>\n",
       "      <th>id chamado</th>\n",
       "      <th>Data</th>\n",
       "      <th>Time</th>\n",
       "      <th>Ferramenta</th>\n",
       "      <th>Canal</th>\n",
       "      <th>Encantador</th>\n",
       "      <th>TMI</th>\n",
       "    </tr>\n",
       "  </thead>\n",
       "  <tbody>\n",
       "    <tr>\n",
       "      <th>0</th>\n",
       "      <td>302982</td>\n",
       "      <td>2021-04-30</td>\n",
       "      <td>Alfa</td>\n",
       "      <td>A</td>\n",
       "      <td>Chat</td>\n",
       "      <td>krystal6338@stone.com.br</td>\n",
       "      <td>18.1</td>\n",
       "    </tr>\n",
       "    <tr>\n",
       "      <th>1</th>\n",
       "      <td>302977</td>\n",
       "      <td>2021-04-30</td>\n",
       "      <td>Alfa</td>\n",
       "      <td>A</td>\n",
       "      <td>Chat</td>\n",
       "      <td>scott6478@stone.com.br</td>\n",
       "      <td>36.9</td>\n",
       "    </tr>\n",
       "    <tr>\n",
       "      <th>2</th>\n",
       "      <td>303116</td>\n",
       "      <td>2021-04-30</td>\n",
       "      <td>Alfa</td>\n",
       "      <td>A</td>\n",
       "      <td>WhatsApp</td>\n",
       "      <td>shanna4214@stone.com.br</td>\n",
       "      <td>16.2</td>\n",
       "    </tr>\n",
       "    <tr>\n",
       "      <th>3</th>\n",
       "      <td>302976</td>\n",
       "      <td>2021-04-30</td>\n",
       "      <td>Alfa</td>\n",
       "      <td>A</td>\n",
       "      <td>Chat</td>\n",
       "      <td>scott6478@stone.com.br</td>\n",
       "      <td>18.3</td>\n",
       "    </tr>\n",
       "    <tr>\n",
       "      <th>4</th>\n",
       "      <td>303115</td>\n",
       "      <td>2021-04-30</td>\n",
       "      <td>Alfa</td>\n",
       "      <td>A</td>\n",
       "      <td>WhatsApp</td>\n",
       "      <td>samantha4353@stone.com.br</td>\n",
       "      <td>26.7</td>\n",
       "    </tr>\n",
       "    <tr>\n",
       "      <th>...</th>\n",
       "      <td>...</td>\n",
       "      <td>...</td>\n",
       "      <td>...</td>\n",
       "      <td>...</td>\n",
       "      <td>...</td>\n",
       "      <td>...</td>\n",
       "      <td>...</td>\n",
       "    </tr>\n",
       "    <tr>\n",
       "      <th>2980473</th>\n",
       "      <td>57845</td>\n",
       "      <td>2021-09-22</td>\n",
       "      <td>Beta</td>\n",
       "      <td>A</td>\n",
       "      <td>WhatsApp</td>\n",
       "      <td>shana9685@stone.com.br</td>\n",
       "      <td>28.0</td>\n",
       "    </tr>\n",
       "    <tr>\n",
       "      <th>2980474</th>\n",
       "      <td>57844</td>\n",
       "      <td>2021-09-22</td>\n",
       "      <td>Alfa</td>\n",
       "      <td>A</td>\n",
       "      <td>WhatsApp</td>\n",
       "      <td>darren5277@stone.com.br</td>\n",
       "      <td>28.0</td>\n",
       "    </tr>\n",
       "    <tr>\n",
       "      <th>2980475</th>\n",
       "      <td>57843</td>\n",
       "      <td>2021-09-22</td>\n",
       "      <td>Alfa</td>\n",
       "      <td>A</td>\n",
       "      <td>WhatsApp</td>\n",
       "      <td>nichole1277@stone.com.br</td>\n",
       "      <td>31.0</td>\n",
       "    </tr>\n",
       "    <tr>\n",
       "      <th>2980476</th>\n",
       "      <td>129305</td>\n",
       "      <td>2021-09-22</td>\n",
       "      <td>Alfa</td>\n",
       "      <td>A</td>\n",
       "      <td>WhatsApp</td>\n",
       "      <td>tyler6526@stone.com.br</td>\n",
       "      <td>85.0</td>\n",
       "    </tr>\n",
       "    <tr>\n",
       "      <th>2980477</th>\n",
       "      <td>108201</td>\n",
       "      <td>2021-09-22</td>\n",
       "      <td>Alfa</td>\n",
       "      <td>A</td>\n",
       "      <td>WhatsApp</td>\n",
       "      <td>byron2711@stone.com.br</td>\n",
       "      <td>62.9</td>\n",
       "    </tr>\n",
       "  </tbody>\n",
       "</table>\n",
       "<p>2980478 rows × 7 columns</p>\n",
       "</div>"
      ],
      "text/plain": [
       "         id chamado       Data  Time Ferramenta     Canal  \\\n",
       "0            302982 2021-04-30  Alfa          A      Chat   \n",
       "1            302977 2021-04-30  Alfa          A      Chat   \n",
       "2            303116 2021-04-30  Alfa          A  WhatsApp   \n",
       "3            302976 2021-04-30  Alfa          A      Chat   \n",
       "4            303115 2021-04-30  Alfa          A  WhatsApp   \n",
       "...             ...        ...   ...        ...       ...   \n",
       "2980473       57845 2021-09-22  Beta          A  WhatsApp   \n",
       "2980474       57844 2021-09-22  Alfa          A  WhatsApp   \n",
       "2980475       57843 2021-09-22  Alfa          A  WhatsApp   \n",
       "2980476      129305 2021-09-22  Alfa          A  WhatsApp   \n",
       "2980477      108201 2021-09-22  Alfa          A  WhatsApp   \n",
       "\n",
       "                        Encantador   TMI  \n",
       "0         krystal6338@stone.com.br  18.1  \n",
       "1           scott6478@stone.com.br  36.9  \n",
       "2          shanna4214@stone.com.br  16.2  \n",
       "3           scott6478@stone.com.br  18.3  \n",
       "4        samantha4353@stone.com.br  26.7  \n",
       "...                            ...   ...  \n",
       "2980473     shana9685@stone.com.br  28.0  \n",
       "2980474    darren5277@stone.com.br  28.0  \n",
       "2980475   nichole1277@stone.com.br  31.0  \n",
       "2980476     tyler6526@stone.com.br  85.0  \n",
       "2980477     byron2711@stone.com.br  62.9  \n",
       "\n",
       "[2980478 rows x 7 columns]"
      ]
     },
     "metadata": {},
     "output_type": "display_data"
    }
   ],
   "source": [
    "# Exclua a coluna index novamente criada após o índice ter sido novamente resetado:\n",
    "data = data.drop(['index'], axis=1)\n",
    "display(data)"
   ]
  },
  {
   "cell_type": "code",
   "execution_count": 7,
   "metadata": {},
   "outputs": [],
   "source": [
    "# Converta o arquivo pkl em csv. Em seguida, carregue-o no Google BigQuery para por fim seja carregado no Google Data Studio:\n",
    "data.to_csv(r'Chamados Totais.csv')"
   ]
  },
  {
   "cell_type": "markdown",
   "metadata": {},
   "source": [
    "# Cálculos e análises de dados"
   ]
  },
  {
   "cell_type": "code",
   "execution_count": 8,
   "metadata": {},
   "outputs": [
    {
     "data": {
      "text/html": [
       "<div>\n",
       "<style scoped>\n",
       "    .dataframe tbody tr th:only-of-type {\n",
       "        vertical-align: middle;\n",
       "    }\n",
       "\n",
       "    .dataframe tbody tr th {\n",
       "        vertical-align: top;\n",
       "    }\n",
       "\n",
       "    .dataframe thead th {\n",
       "        text-align: right;\n",
       "    }\n",
       "</style>\n",
       "<table border=\"1\" class=\"dataframe\">\n",
       "  <thead>\n",
       "    <tr style=\"text-align: right;\">\n",
       "      <th></th>\n",
       "      <th>id chamado</th>\n",
       "      <th>Data</th>\n",
       "      <th>Time</th>\n",
       "      <th>Ferramenta</th>\n",
       "      <th>Canal</th>\n",
       "      <th>Encantador</th>\n",
       "      <th>TMI</th>\n",
       "    </tr>\n",
       "  </thead>\n",
       "  <tbody>\n",
       "    <tr>\n",
       "      <th>29</th>\n",
       "      <td>302981</td>\n",
       "      <td>2021-04-30</td>\n",
       "      <td>Alfa</td>\n",
       "      <td>A</td>\n",
       "      <td>Chat</td>\n",
       "      <td>krystal6338@stone.com.br</td>\n",
       "      <td>1138.0</td>\n",
       "    </tr>\n",
       "    <tr>\n",
       "      <th>650406</th>\n",
       "      <td>302981</td>\n",
       "      <td>2021-07-05</td>\n",
       "      <td>Sigma</td>\n",
       "      <td>B</td>\n",
       "      <td>WhatsApp</td>\n",
       "      <td>sandra9491@stone.com.br</td>\n",
       "      <td>51.0</td>\n",
       "    </tr>\n",
       "    <tr>\n",
       "      <th>1270974</th>\n",
       "      <td>302981</td>\n",
       "      <td>2021-07-28</td>\n",
       "      <td>Alfa</td>\n",
       "      <td>B</td>\n",
       "      <td>WhatsApp</td>\n",
       "      <td>kristine5490@stone.com.br</td>\n",
       "      <td>50.0</td>\n",
       "    </tr>\n",
       "    <tr>\n",
       "      <th>1368258</th>\n",
       "      <td>302981</td>\n",
       "      <td>2021-08-02</td>\n",
       "      <td>Beta</td>\n",
       "      <td>A</td>\n",
       "      <td>WhatsApp</td>\n",
       "      <td>elise0365@stone.com.br</td>\n",
       "      <td>1820.0</td>\n",
       "    </tr>\n",
       "    <tr>\n",
       "      <th>2795466</th>\n",
       "      <td>302981</td>\n",
       "      <td>2021-09-14</td>\n",
       "      <td>Delta</td>\n",
       "      <td>A</td>\n",
       "      <td>WhatsApp</td>\n",
       "      <td>jack4341@stone.com.br</td>\n",
       "      <td>113.9</td>\n",
       "    </tr>\n",
       "  </tbody>\n",
       "</table>\n",
       "</div>"
      ],
      "text/plain": [
       "         id chamado       Data   Time Ferramenta     Canal  \\\n",
       "29           302981 2021-04-30   Alfa          A      Chat   \n",
       "650406       302981 2021-07-05  Sigma          B  WhatsApp   \n",
       "1270974      302981 2021-07-28   Alfa          B  WhatsApp   \n",
       "1368258      302981 2021-08-02   Beta          A  WhatsApp   \n",
       "2795466      302981 2021-09-14  Delta          A  WhatsApp   \n",
       "\n",
       "                        Encantador     TMI  \n",
       "29        krystal6338@stone.com.br  1138.0  \n",
       "650406     sandra9491@stone.com.br    51.0  \n",
       "1270974  kristine5490@stone.com.br    50.0  \n",
       "1368258     elise0365@stone.com.br  1820.0  \n",
       "2795466      jack4341@stone.com.br   113.9  "
      ]
     },
     "metadata": {},
     "output_type": "display_data"
    }
   ],
   "source": [
    "# Verifique se há \"id chamados\" duplicados:\n",
    "\n",
    "coluna = ['id chamado', 'Data', 'Time', 'Ferramenta', 'Canal', 'Encantador', 'TMI']\n",
    "\n",
    "display(data.loc[data['id chamado'] == 302981, coluna]) \n",
    "# Utilizei único id e a busca retornou a 5 chamados diferentes."
   ]
  },
  {
   "cell_type": "markdown",
   "metadata": {},
   "source": [
    "- Conclusão:\n",
    "-> Há \"id chamados\" repetidos.\n",
    "-> Provalvelmente, são atendimentos com problemas inicialmente complexos.\n",
    "-> Além disso, após resolver o problema, pode ter surgido outro problema decorrente do chamado anterior posteriormente."
   ]
  },
  {
   "cell_type": "code",
   "execution_count": 9,
   "metadata": {},
   "outputs": [
    {
     "data": {
      "text/html": [
       "<div>\n",
       "<style scoped>\n",
       "    .dataframe tbody tr th:only-of-type {\n",
       "        vertical-align: middle;\n",
       "    }\n",
       "\n",
       "    .dataframe tbody tr th {\n",
       "        vertical-align: top;\n",
       "    }\n",
       "\n",
       "    .dataframe thead th {\n",
       "        text-align: right;\n",
       "    }\n",
       "</style>\n",
       "<table border=\"1\" class=\"dataframe\">\n",
       "  <thead>\n",
       "    <tr style=\"text-align: right;\">\n",
       "      <th></th>\n",
       "      <th>Ferramenta</th>\n",
       "      <th>TMI</th>\n",
       "    </tr>\n",
       "  </thead>\n",
       "  <tbody>\n",
       "    <tr>\n",
       "      <th>0</th>\n",
       "      <td>A</td>\n",
       "      <td>1327</td>\n",
       "    </tr>\n",
       "    <tr>\n",
       "      <th>1</th>\n",
       "      <td>B</td>\n",
       "      <td>126</td>\n",
       "    </tr>\n",
       "  </tbody>\n",
       "</table>\n",
       "</div>"
      ],
      "text/plain": [
       "  Ferramenta   TMI\n",
       "0          A  1327\n",
       "1          B   126"
      ]
     },
     "metadata": {},
     "output_type": "display_data"
    }
   ],
   "source": [
    "# Calcule a quantidade de valores zeros na coluna TMI:\n",
    "data_zero = data.loc[data['TMI'] == 0, ['Ferramenta', 'TMI']].groupby('Ferramenta').count().reset_index()\n",
    "display(data_zero)"
   ]
  },
  {
   "cell_type": "markdown",
   "metadata": {},
   "source": [
    "- Conclusão:\n",
    "-> Há mais casos de TMI igual a zero ao utilizar a ferramenta “A”."
   ]
  },
  {
   "cell_type": "code",
   "execution_count": 10,
   "metadata": {},
   "outputs": [
    {
     "name": "stdout",
     "output_type": "stream",
     "text": [
      "Há 52.430 chamados com TMI igual a \"null\" cuja ferramenta utilizada é: A\n",
      "\n",
      "\n",
      "Há 0 chamados com TMI igual a \"null\" cuja ferramenta utilizada é: B"
     ]
    }
   ],
   "source": [
    "# Calcule a quantidade de valores nulos na coluna TMI:\n",
    "ferramenta_A = 'A'\n",
    "ferramenta_B = 'B'\n",
    "\n",
    "\n",
    "data_null_A = data.loc[(pd.isnull(data['TMI'])) & (data['Ferramenta'] == ferramenta_A), 'Ferramenta'].count()\n",
    "print(f'Há {data_null_A:_.0f} chamados com TMI igual a \"null\" cuja ferramenta utilizada é: {ferramenta_A}'\\\n",
    "      .replace('.',',').replace('_','.'))\n",
    "\n",
    "data_null_B = data.loc[(pd.isnull(data['TMI'])) & (data['Ferramenta'] == ferramenta_B), 'Ferramenta'].count()\n",
    "print(end='\\n\\n' f'Há {data_null_B:_.0f} chamados com TMI igual a \"null\" cuja ferramenta utilizada é: {ferramenta_B}'\\\n",
    "      .replace('.',',').replace('_','.'))"
   ]
  },
  {
   "cell_type": "markdown",
   "metadata": {},
   "source": [
    "- Conclusão:\n",
    "-> Não houve valores null para chamados cuja ferramenta tenha sido com a ferramenta \"B\". \n",
    "-> Todos os valores null de TMI foi utilizando a ferramenta \"A\".\n",
    "\n",
    "\n",
    "- Pergunta: \n",
    "-> Pq há TMI com valores null e zero? Deve-se averiguar o que houve nesses chamados com os encantadores para uniformizar o procedimento ou se for necessário distinguí-los, cria-se outra coluna com outra característica que os diferencie de forma mais clara."
   ]
  },
  {
   "cell_type": "code",
   "execution_count": 11,
   "metadata": {},
   "outputs": [
    {
     "name": "stdout",
     "output_type": "stream",
     "text": [
      "Há 566.868 atendimentos pelo canal Chat.\n"
     ]
    }
   ],
   "source": [
    "# Mostre a quantidade de atendimentos pelo Canal Chat:\n",
    "qnt_canal = data.loc[data['Canal'] == 'Chat', 'Canal'].count()\n",
    "print(f'Há {qnt_canal:_.0f} atendimentos pelo canal Chat'.replace('.',',').replace('_','.') + '.')"
   ]
  },
  {
   "cell_type": "code",
   "execution_count": 12,
   "metadata": {},
   "outputs": [
    {
     "name": "stdout",
     "output_type": "stream",
     "text": [
      "Há 2.413.610 atendimentos pelo canal WhatsApp.\n"
     ]
    }
   ],
   "source": [
    "# Mostre a quantidade de atendimentos pelo Canal WhatsApp\n",
    "qnt_zap = data.loc[data['Canal'] == 'WhatsApp', 'Canal'].count()\n",
    "print(f'Há {qnt_zap:_.0f} atendimentos pelo canal WhatsApp'.replace('.',',').replace('_','.') + '.')"
   ]
  },
  {
   "cell_type": "code",
   "execution_count": 13,
   "metadata": {},
   "outputs": [
    {
     "name": "stdout",
     "output_type": "stream",
     "text": [
      "Há 0 atendimentos pelo canal Telefone.\n",
      "Há 0 atendimentos pelo canal Email.\n"
     ]
    }
   ],
   "source": [
    "# Mostre a quantidade de atendimentos pelo Canal telefone e email\n",
    "qnt_phone = data.loc[data['Canal'] == 'Telefone', 'Canal'].count()\n",
    "print(f'Há {qnt_phone:_.0f} atendimentos pelo canal Telefone'.replace('.',',').replace('_','.') + '.')\n",
    "\n",
    "qnt_email = data.loc[data['Canal'] == 'Email', 'Canal'].count()\n",
    "print(f'Há {qnt_email:_.0f} atendimentos pelo canal Email'.replace('.',',').replace('_','.') + '.')"
   ]
  },
  {
   "cell_type": "markdown",
   "metadata": {},
   "source": [
    "- Conclusão\n",
    "-> Há muito mais chamados de whasApp do que por Chat.\n",
    "-> Não há canais por telefone e email nesse banco de dados."
   ]
  },
  {
   "cell_type": "code",
   "execution_count": 14,
   "metadata": {},
   "outputs": [
    {
     "data": {
      "text/html": [
       "<div>\n",
       "<style scoped>\n",
       "    .dataframe tbody tr th:only-of-type {\n",
       "        vertical-align: middle;\n",
       "    }\n",
       "\n",
       "    .dataframe tbody tr th {\n",
       "        vertical-align: top;\n",
       "    }\n",
       "\n",
       "    .dataframe thead th {\n",
       "        text-align: right;\n",
       "    }\n",
       "</style>\n",
       "<table border=\"1\" class=\"dataframe\">\n",
       "  <thead>\n",
       "    <tr style=\"text-align: right;\">\n",
       "      <th></th>\n",
       "      <th>Time</th>\n",
       "      <th>TMI</th>\n",
       "    </tr>\n",
       "  </thead>\n",
       "  <tbody>\n",
       "    <tr>\n",
       "      <th>0</th>\n",
       "      <td>Alfa</td>\n",
       "      <td>85.0</td>\n",
       "    </tr>\n",
       "    <tr>\n",
       "      <th>3</th>\n",
       "      <td>Sigma</td>\n",
       "      <td>131.0</td>\n",
       "    </tr>\n",
       "    <tr>\n",
       "      <th>2</th>\n",
       "      <td>Delta</td>\n",
       "      <td>138.0</td>\n",
       "    </tr>\n",
       "    <tr>\n",
       "      <th>1</th>\n",
       "      <td>Beta</td>\n",
       "      <td>615.0</td>\n",
       "    </tr>\n",
       "  </tbody>\n",
       "</table>\n",
       "</div>"
      ],
      "text/plain": [
       "    Time    TMI\n",
       "0   Alfa   85.0\n",
       "3  Sigma  131.0\n",
       "2  Delta  138.0\n",
       "1   Beta  615.0"
      ]
     },
     "metadata": {},
     "output_type": "display_data"
    }
   ],
   "source": [
    "# Calcule a média do TMI de cada equipe:\n",
    "team = data[['Time', 'TMI']].groupby('Time').mean().reset_index()\n",
    "display(round(team).sort_values('TMI'))"
   ]
  },
  {
   "cell_type": "markdown",
   "metadata": {},
   "source": [
    "- Conclusão:\n",
    "-> Equipe mais eficiente: Alfa. Além disso, foi a única cujo TMI foi menor do que o estipulado.\n",
    "-> Equipe menos eficiente: Beta"
   ]
  },
  {
   "cell_type": "code",
   "execution_count": 15,
   "metadata": {},
   "outputs": [
    {
     "name": "stdout",
     "output_type": "stream",
     "text": [
      "O TMI médio das equipes foi: 205%.\n"
     ]
    }
   ],
   "source": [
    "# Calcule a média do TMI total de todos os times:\n",
    "team_total = data['TMI'].mean()\n",
    "print(f'O TMI médio das equipes foi: {round(team_total)}%.')"
   ]
  },
  {
   "cell_type": "markdown",
   "metadata": {},
   "source": [
    "- Conclusão:\n",
    "-> De modo geral, o indicador não foi atingido pelos encantadores da empresa."
   ]
  },
  {
   "cell_type": "code",
   "execution_count": 16,
   "metadata": {},
   "outputs": [
    {
     "data": {
      "text/html": [
       "<div>\n",
       "<style scoped>\n",
       "    .dataframe tbody tr th:only-of-type {\n",
       "        vertical-align: middle;\n",
       "    }\n",
       "\n",
       "    .dataframe tbody tr th {\n",
       "        vertical-align: top;\n",
       "    }\n",
       "\n",
       "    .dataframe thead th {\n",
       "        text-align: right;\n",
       "    }\n",
       "</style>\n",
       "<table border=\"1\" class=\"dataframe\">\n",
       "  <thead>\n",
       "    <tr style=\"text-align: right;\">\n",
       "      <th></th>\n",
       "      <th>Ferramenta</th>\n",
       "      <th>TMI</th>\n",
       "    </tr>\n",
       "  </thead>\n",
       "  <tbody>\n",
       "    <tr>\n",
       "      <th>0</th>\n",
       "      <td>A</td>\n",
       "      <td>64.0</td>\n",
       "    </tr>\n",
       "    <tr>\n",
       "      <th>1</th>\n",
       "      <td>B</td>\n",
       "      <td>107.0</td>\n",
       "    </tr>\n",
       "  </tbody>\n",
       "</table>\n",
       "</div>"
      ],
      "text/plain": [
       "  Ferramenta    TMI\n",
       "0          A   64.0\n",
       "1          B  107.0"
      ]
     },
     "metadata": {},
     "output_type": "display_data"
    }
   ],
   "source": [
    "# Calcule a média do TMI em relação a cada ferramenta da equipe alfa:\n",
    "tool_alfa = data.loc[data['Time'] == 'Alfa', ['Ferramenta', 'TMI']].groupby('Ferramenta').mean().reset_index()\n",
    "display(round(tool_alfa))"
   ]
  },
  {
   "cell_type": "code",
   "execution_count": 17,
   "metadata": {},
   "outputs": [
    {
     "data": {
      "text/html": [
       "<div>\n",
       "<style scoped>\n",
       "    .dataframe tbody tr th:only-of-type {\n",
       "        vertical-align: middle;\n",
       "    }\n",
       "\n",
       "    .dataframe tbody tr th {\n",
       "        vertical-align: top;\n",
       "    }\n",
       "\n",
       "    .dataframe thead th {\n",
       "        text-align: right;\n",
       "    }\n",
       "</style>\n",
       "<table border=\"1\" class=\"dataframe\">\n",
       "  <thead>\n",
       "    <tr style=\"text-align: right;\">\n",
       "      <th></th>\n",
       "      <th>Ferramenta</th>\n",
       "      <th>TMI</th>\n",
       "    </tr>\n",
       "  </thead>\n",
       "  <tbody>\n",
       "    <tr>\n",
       "      <th>0</th>\n",
       "      <td>A</td>\n",
       "      <td>584.0</td>\n",
       "    </tr>\n",
       "    <tr>\n",
       "      <th>1</th>\n",
       "      <td>B</td>\n",
       "      <td>3832.0</td>\n",
       "    </tr>\n",
       "  </tbody>\n",
       "</table>\n",
       "</div>"
      ],
      "text/plain": [
       "  Ferramenta     TMI\n",
       "0          A   584.0\n",
       "1          B  3832.0"
      ]
     },
     "metadata": {},
     "output_type": "display_data"
    }
   ],
   "source": [
    "# Calcule a média do TMI em relação a cada ferramenta da equipe Beta:\n",
    "tool_beta = data.loc[data['Time'] == 'Beta', ['Time', 'Ferramenta', 'TMI']].groupby('Ferramenta').mean().reset_index()\n",
    "display(round(tool_beta))"
   ]
  },
  {
   "cell_type": "code",
   "execution_count": 18,
   "metadata": {},
   "outputs": [
    {
     "data": {
      "text/html": [
       "<div>\n",
       "<style scoped>\n",
       "    .dataframe tbody tr th:only-of-type {\n",
       "        vertical-align: middle;\n",
       "    }\n",
       "\n",
       "    .dataframe tbody tr th {\n",
       "        vertical-align: top;\n",
       "    }\n",
       "\n",
       "    .dataframe thead th {\n",
       "        text-align: right;\n",
       "    }\n",
       "</style>\n",
       "<table border=\"1\" class=\"dataframe\">\n",
       "  <thead>\n",
       "    <tr style=\"text-align: right;\">\n",
       "      <th></th>\n",
       "      <th>Ferramenta</th>\n",
       "      <th>TMI</th>\n",
       "    </tr>\n",
       "  </thead>\n",
       "  <tbody>\n",
       "    <tr>\n",
       "      <th>0</th>\n",
       "      <td>A</td>\n",
       "      <td>97.0</td>\n",
       "    </tr>\n",
       "    <tr>\n",
       "      <th>1</th>\n",
       "      <td>B</td>\n",
       "      <td>150.0</td>\n",
       "    </tr>\n",
       "  </tbody>\n",
       "</table>\n",
       "</div>"
      ],
      "text/plain": [
       "  Ferramenta    TMI\n",
       "0          A   97.0\n",
       "1          B  150.0"
      ]
     },
     "metadata": {},
     "output_type": "display_data"
    }
   ],
   "source": [
    "# Calcule a média do TMI em relação a cada ferramenta da equipe Sigma:\n",
    "tool_sigma = data.loc[data['Time'] == 'Sigma', ['Ferramenta', 'TMI']].groupby('Ferramenta').mean().reset_index()\n",
    "display(round(tool_sigma))"
   ]
  },
  {
   "cell_type": "code",
   "execution_count": 19,
   "metadata": {},
   "outputs": [
    {
     "data": {
      "text/html": [
       "<div>\n",
       "<style scoped>\n",
       "    .dataframe tbody tr th:only-of-type {\n",
       "        vertical-align: middle;\n",
       "    }\n",
       "\n",
       "    .dataframe tbody tr th {\n",
       "        vertical-align: top;\n",
       "    }\n",
       "\n",
       "    .dataframe thead th {\n",
       "        text-align: right;\n",
       "    }\n",
       "</style>\n",
       "<table border=\"1\" class=\"dataframe\">\n",
       "  <thead>\n",
       "    <tr style=\"text-align: right;\">\n",
       "      <th></th>\n",
       "      <th>Ferramenta</th>\n",
       "      <th>TMI</th>\n",
       "    </tr>\n",
       "  </thead>\n",
       "  <tbody>\n",
       "    <tr>\n",
       "      <th>0</th>\n",
       "      <td>A</td>\n",
       "      <td>139.0</td>\n",
       "    </tr>\n",
       "    <tr>\n",
       "      <th>1</th>\n",
       "      <td>B</td>\n",
       "      <td>138.0</td>\n",
       "    </tr>\n",
       "  </tbody>\n",
       "</table>\n",
       "</div>"
      ],
      "text/plain": [
       "  Ferramenta    TMI\n",
       "0          A  139.0\n",
       "1          B  138.0"
      ]
     },
     "metadata": {},
     "output_type": "display_data"
    }
   ],
   "source": [
    "# Calcule a média do TMI em relação a cada ferramenta da equipe Delta:\n",
    "tool_delta = data.loc[data['Time'] == 'Delta', ['Ferramenta', 'TMI']].groupby('Ferramenta').mean().reset_index()\n",
    "display(round(tool_delta))"
   ]
  },
  {
   "cell_type": "markdown",
   "metadata": {},
   "source": [
    "- Conclusão:\n",
    "-> É melhor priorizar uso da ferramenta \"A\" em detrimento da \"B\".\n",
    "-> Justificativa: Em média, a ferramenta B prejudicou o indicador TMI na maioria das equipes. Apenas a equipe Delta teve TMI com valores próximos independentemente da ferramenta utilizada."
   ]
  },
  {
   "cell_type": "code",
   "execution_count": 20,
   "metadata": {},
   "outputs": [
    {
     "data": {
      "text/html": [
       "<div>\n",
       "<style scoped>\n",
       "    .dataframe tbody tr th:only-of-type {\n",
       "        vertical-align: middle;\n",
       "    }\n",
       "\n",
       "    .dataframe tbody tr th {\n",
       "        vertical-align: top;\n",
       "    }\n",
       "\n",
       "    .dataframe thead th {\n",
       "        text-align: right;\n",
       "    }\n",
       "</style>\n",
       "<table border=\"1\" class=\"dataframe\">\n",
       "  <thead>\n",
       "    <tr style=\"text-align: right;\">\n",
       "      <th></th>\n",
       "      <th>Ferramenta</th>\n",
       "      <th>TMI</th>\n",
       "    </tr>\n",
       "  </thead>\n",
       "  <tbody>\n",
       "    <tr>\n",
       "      <th>0</th>\n",
       "      <td>A</td>\n",
       "      <td>256.0</td>\n",
       "    </tr>\n",
       "    <tr>\n",
       "      <th>1</th>\n",
       "      <td>B</td>\n",
       "      <td>139.0</td>\n",
       "    </tr>\n",
       "  </tbody>\n",
       "</table>\n",
       "</div>"
      ],
      "text/plain": [
       "  Ferramenta    TMI\n",
       "0          A  256.0\n",
       "1          B  139.0"
      ]
     },
     "metadata": {},
     "output_type": "display_data"
    }
   ],
   "source": [
    "# Calcule a média do TMI das equipes em relação a cada ferramenta:\n",
    "tool_mean = data[['Ferramenta', 'TMI']].groupby('Ferramenta').mean().reset_index()\n",
    "display(round(tool_mean))"
   ]
  },
  {
   "cell_type": "markdown",
   "metadata": {},
   "source": [
    "- Dúvida:\n",
    "-> Por que o valor do TMI ao utilizar a ferramenta \"B\" foi menor do que o do \"A\" uma vez que os valores de TMI médio por equipe é maior ao utilizar a ferramenta \"B\"?\n",
    "-> Segue cálculos para justificar o resultado."
   ]
  },
  {
   "cell_type": "code",
   "execution_count": 21,
   "metadata": {},
   "outputs": [
    {
     "name": "stdout",
     "output_type": "stream",
     "text": [
      "Há 1.268.465 atendimentos utilizando a ferramenta B.\n"
     ]
    }
   ],
   "source": [
    "# Mostre a quantidade de atendimentos utilizando a ferramenta B\n",
    "qnt_tool_B = data.loc[data['Ferramenta'] == 'B', 'Ferramenta'].count()\n",
    "print(f'Há {qnt_tool_B:_.0f} atendimentos utilizando a ferramenta B'.replace('.',',').replace('_','.') + '.')"
   ]
  },
  {
   "cell_type": "code",
   "execution_count": 23,
   "metadata": {},
   "outputs": [
    {
     "name": "stdout",
     "output_type": "stream",
     "text": [
      "Há 5.792 atendimentos da equipe Beta utilizando a ferramenta B.\n",
      "\n",
      "\n",
      "Do total dos atendimentos utilizando a ferramenta B, a equipe Beta fez: 0,46%.\n"
     ]
    }
   ],
   "source": [
    "# Mostre a quantidade de atendimentos utilizando a ferramenta B pela equipe Beta:\n",
    "qnt_tool_B_beta = data.loc[(data['Ferramenta'] == 'B') & (data['Time'] == 'Beta'), 'Ferramenta'].count()\n",
    "qnt_tool_B_percentual = qnt_tool_B_beta / qnt_tool_B\n",
    "\n",
    "print(f'Há {qnt_tool_B_beta:_.0f} atendimentos da equipe Beta utilizando a ferramenta B'.replace('.',',').replace('_','.') + '.' + '\\n\\n')\n",
    "print(f'Do total dos atendimentos utilizando a ferramenta B, a equipe Beta fez: {qnt_tool_B_percentual:_.2%}'.replace('.',',').replace('_','.') + '.')"
   ]
  },
  {
   "cell_type": "code",
   "execution_count": 24,
   "metadata": {},
   "outputs": [
    {
     "name": "stdout",
     "output_type": "stream",
     "text": [
      "Há 1.659.583 atendimentos utilizando a ferramenta A.\n"
     ]
    }
   ],
   "source": [
    "# Mostre a quantidade de atendimentos utilizando a ferramenta A\n",
    "qnt_tool_A = data.loc[data['Ferramenta'] == 'A', 'Ferramenta'].count()\n",
    "qnt_tool_A -= data_null_A # Retirou-se os resultados de TMI nulos.\n",
    "print(f'Há {qnt_tool_A:_.0f} atendimentos utilizando a ferramenta A'.replace('.',',').replace('_','.') + '.')"
   ]
  },
  {
   "cell_type": "code",
   "execution_count": 25,
   "metadata": {},
   "outputs": [
    {
     "name": "stdout",
     "output_type": "stream",
     "text": [
      "Há 613.007 atendimentos da equipe Beta utilizando a ferramenta A.\n",
      "\n",
      "\n",
      "Do total dos atendimentos utilizando a ferramenta A, a equipe Beta fez: 36,94%.\n"
     ]
    }
   ],
   "source": [
    "# Mostre a quantidade de atendimentos utilizando a ferramenta A pela equipe Beta:\n",
    "qnt_tool_A_Beta = data.loc[(data['Ferramenta'] == 'A') & (data['Time'] == 'Beta'), 'Ferramenta'].count()\n",
    "qnt_tool_A_percentual = qnt_tool_A_Beta / qnt_tool_A\n",
    "\n",
    "print(f'Há {qnt_tool_A_Beta:_.0f} atendimentos da equipe Beta utilizando a ferramenta A'.replace('.',',').replace('_','.') + '.' + '\\n\\n')\n",
    "print(f'Do total dos atendimentos utilizando a ferramenta A, a equipe Beta fez: {qnt_tool_A_percentual:_.2%}'.replace('.',',').replace('_','.') + '.')"
   ]
  },
  {
   "cell_type": "markdown",
   "metadata": {},
   "source": [
    "- Conclusão:\n",
    "-> Lembrete: o TMI médio da equipe Beta foi o pior entre todas as equipes.\n",
    "-> Portanto, embora o TMI médio ao utilizar a ferramenta A tenha sido maior do que o TMI relativo ao uso da ferramenta B, deve-se esse valor pela baixa quantidade de chamados realizados pela equipe Beta utilizando a ferramenta B e pela alta quantidade de chamados realizados por essa equipe utilizando a \"A\". \n",
    "-> Sendo assim, mantém-se a conclusão de que o uso da ferramenta \"B\" prejudica redimento das equipes em relação ao uso da \"A\"."
   ]
  },
  {
   "cell_type": "code",
   "execution_count": 26,
   "metadata": {},
   "outputs": [
    {
     "data": {
      "text/html": [
       "<div>\n",
       "<style scoped>\n",
       "    .dataframe tbody tr th:only-of-type {\n",
       "        vertical-align: middle;\n",
       "    }\n",
       "\n",
       "    .dataframe tbody tr th {\n",
       "        vertical-align: top;\n",
       "    }\n",
       "\n",
       "    .dataframe thead th {\n",
       "        text-align: right;\n",
       "    }\n",
       "</style>\n",
       "<table border=\"1\" class=\"dataframe\">\n",
       "  <thead>\n",
       "    <tr style=\"text-align: right;\">\n",
       "      <th></th>\n",
       "      <th>Time</th>\n",
       "      <th>Canal</th>\n",
       "      <th>TMI</th>\n",
       "    </tr>\n",
       "  </thead>\n",
       "  <tbody>\n",
       "    <tr>\n",
       "      <th>0</th>\n",
       "      <td>Alfa</td>\n",
       "      <td>Chat</td>\n",
       "      <td>45.0</td>\n",
       "    </tr>\n",
       "    <tr>\n",
       "      <th>1</th>\n",
       "      <td>Alfa</td>\n",
       "      <td>WhatsApp</td>\n",
       "      <td>97.0</td>\n",
       "    </tr>\n",
       "    <tr>\n",
       "      <th>2</th>\n",
       "      <td>Beta</td>\n",
       "      <td>Chat</td>\n",
       "      <td>251.0</td>\n",
       "    </tr>\n",
       "    <tr>\n",
       "      <th>3</th>\n",
       "      <td>Beta</td>\n",
       "      <td>WhatsApp</td>\n",
       "      <td>710.0</td>\n",
       "    </tr>\n",
       "    <tr>\n",
       "      <th>4</th>\n",
       "      <td>Delta</td>\n",
       "      <td>WhatsApp</td>\n",
       "      <td>138.0</td>\n",
       "    </tr>\n",
       "    <tr>\n",
       "      <th>5</th>\n",
       "      <td>Sigma</td>\n",
       "      <td>Chat</td>\n",
       "      <td>71.0</td>\n",
       "    </tr>\n",
       "    <tr>\n",
       "      <th>6</th>\n",
       "      <td>Sigma</td>\n",
       "      <td>WhatsApp</td>\n",
       "      <td>139.0</td>\n",
       "    </tr>\n",
       "  </tbody>\n",
       "</table>\n",
       "</div>"
      ],
      "text/plain": [
       "    Time     Canal    TMI\n",
       "0   Alfa      Chat   45.0\n",
       "1   Alfa  WhatsApp   97.0\n",
       "2   Beta      Chat  251.0\n",
       "3   Beta  WhatsApp  710.0\n",
       "4  Delta  WhatsApp  138.0\n",
       "5  Sigma      Chat   71.0\n",
       "6  Sigma  WhatsApp  139.0"
      ]
     },
     "metadata": {},
     "output_type": "display_data"
    }
   ],
   "source": [
    "# Calcule a média do TMI em relação a cada canal de cada equipe:\n",
    "TMI_per_canal_team = data[['Time', 'TMI', 'Canal']].groupby(['Time', 'Canal']).mean().reset_index()\n",
    "display(round(TMI_per_canal_team).sort_values('Time'))"
   ]
  },
  {
   "cell_type": "markdown",
   "metadata": {},
   "source": [
    "- Conclusão:\n",
    "-> Atendimento no Chat é, em média, mais rápido do que pelo WhatsApp ao observar o TMI de cada equipe.\n",
    "-> Observação: a equipe Delta não fez nenhum atendimento via Chat.\n",
    "-> Corroborando com resultados anteriores, a equipe Alfa foi a única a atender com TMI abaixo do estipulado independente do tipo de canal.\n",
    "-> Destaca-se também que a equipe Sigma obteve ótimos resultados ao utilizar o canal Chat, ao contrário de quando utilizou o WhatsApp. "
   ]
  },
  {
   "cell_type": "code",
   "execution_count": 27,
   "metadata": {},
   "outputs": [
    {
     "name": "stdout",
     "output_type": "stream",
     "text": [
      "48% dos encantadores que utilizaram WhatsApp atingiram a meta.\n",
      "\n",
      "\n",
      "52% dos encantadores que utilizaram WhatsApp não atingiram a meta.\n",
      "\n",
      "\n",
      "16% dos encantadores que utilizaram Chat atingiram a meta.\n",
      "\n",
      "\n",
      "84% dos encantadores que utilizaram Chat não atingiram a meta.\n"
     ]
    }
   ],
   "source": [
    "# Mostre resultado, Meta e Atingimento da Meta de todos os encantadores:\n",
    "\n",
    "# Declare as variáveis aqui:\n",
    "meta_zap = 70.0\n",
    "meta_chat = 80.0\n",
    "\n",
    "encantador_meta_zap = 0\n",
    "encantador_meta_chat = 0\n",
    "\n",
    "# Armazene a quantidade total de encantadores que atingiram e não atingiram a meta:\n",
    "for i in range(len(data)):\n",
    "    if (data.loc[i, 'TMI'] <= meta_zap) & (data.loc[i, 'Canal'] == 'WhatsApp'):\n",
    "        encantador_meta_zap += 1\n",
    "    else:\n",
    "        pass\n",
    "        \n",
    "    if (data.loc[i, 'TMI'] <= meta_chat) & (data.loc[i, 'Canal'] == 'Chat'):\n",
    "        encantador_meta_chat += 1\n",
    "\n",
    "# Calcule e mostre o percentual relativo à meta do WhatsApp: \n",
    "percentual_meta_zap = encantador_meta_zap / len(data)\n",
    "print(f'{percentual_meta_zap:_.0%} dos encantadores que utilizaram WhatsApp atingiram a meta'.replace('.',',') + '.' + '\\n\\n')\n",
    "\n",
    "\n",
    "percentual_nao_meta_zap =  1 - percentual_meta_zap\n",
    "print(f'{percentual_nao_meta_zap:_.0%} dos encantadores que utilizaram WhatsApp não atingiram a meta'.replace('.',',') + '.' + '\\n\\n')\n",
    "\n",
    "\n",
    "# Calcule e mostre o percentual relativo à meta do Chat:\n",
    "percentual_meta_chat = encantador_meta_chat / len(data)\n",
    "print(f'{percentual_meta_chat:_.0%} dos encantadores que utilizaram Chat atingiram a meta'.replace('.',',') + '.' + '\\n\\n')\n",
    "\n",
    "\n",
    "percentual_nao_meta_chat = 1 - percentual_meta_chat\n",
    "print(f'{percentual_nao_meta_chat:_.0%} dos encantadores que utilizaram Chat não atingiram a meta'.replace('.',',') + '.')"
   ]
  },
  {
   "cell_type": "markdown",
   "metadata": {},
   "source": [
    "- Conclusão:\n",
    "-> Embora a média dos valores de TMI referente ao WhatsApp seja maior do que a do Chat, os encantadores atingiram a meta mais vezes percentualmente utilizando WhatsApp em vez do Chat.\n",
    "-> Logo, podemos concluir que uma tendência do mercado é utilizar o WhatsApp para falar e resolver problemas do negócio uma vez que é um aplicativo gratuito e customeiro o seu uso no cotidiano da população."
   ]
  },
  {
   "cell_type": "code",
   "execution_count": 28,
   "metadata": {},
   "outputs": [
    {
     "name": "stdout",
     "output_type": "stream",
     "text": [
      "Houve 3.108 chamados no dia 18/07/2021, que foi um domingo.\n",
      "Houve 26.520 chamados no dia 19/07/2021, que foi uma segunda-feira.\n"
     ]
    }
   ],
   "source": [
    "# Calcule a quantidade de chamados no domingo em relação a qualquer outro dia da semana:\n",
    "qnt_call_sunday = data.loc[data['Data'] == '2021-07-18', 'id chamado'].count()\n",
    "qnt_call_monday = data.loc[data['Data'] == '2021-07-19', 'id chamado'].count()\n",
    "\n",
    "print(f'Houve {qnt_call_sunday:_.0f} chamados no dia 18/07/2021, que foi um domingo'.replace('.', ',').replace('_', '.') + '.')\n",
    "print(f'Houve {qnt_call_monday:_.0f} chamados no dia 19/07/2021, que foi uma segunda-feira'.replace('.', ',').replace('_', '.') + '.')"
   ]
  },
  {
   "cell_type": "code",
   "execution_count": 32,
   "metadata": {},
   "outputs": [
    {
     "name": "stdout",
     "output_type": "stream",
     "text": [
      "Houve 3.169 chamados no dia 25/07/2021, que foi um domingo.\n",
      "Houve 25.742 chamados no dia 26/07/2021, que foi uma segunda-feira.\n"
     ]
    }
   ],
   "source": [
    "# Calcule novamente a quantidade de chamados no domingo em relação a qualquer outro dia da semana para verificação:\n",
    "qnt_call_sunday_2 = data.loc[data['Data'] == '2021-07-25', 'id chamado'].count()\n",
    "qnt_call_monday_2 = data.loc[data['Data'] == '2021-07-26', 'id chamado'].count()\n",
    "\n",
    "print(f'Houve {qnt_call_sunday_2:_.0f} chamados no dia 25/07/2021, que foi um domingo'.replace('.', ',').replace('_', '.') + '.')\n",
    "print(f'Houve {qnt_call_monday_2:_.0f} chamados no dia 26/07/2021, que foi uma segunda-feira'.replace('.', ',').replace('_', '.') + '.')"
   ]
  },
  {
   "cell_type": "code",
   "execution_count": 33,
   "metadata": {},
   "outputs": [
    {
     "name": "stdout",
     "output_type": "stream",
     "text": [
      "Houve 6.312 chamados no dia 01/08/2021, que foi um domingo.\n",
      "Houve 57.767 chamados no dia 02/08/2021, que foi uma segunda-feira.\n"
     ]
    }
   ],
   "source": [
    "# Calcule novamente a quantidade de chamados no domingo em relação a qualquer outro dia da semana para verificação:\n",
    "qnt_call_sunday_3 = data.loc[data['Data'] == '2021-08-01', 'id chamado'].count()\n",
    "qnt_call_monday_3 = data.loc[data['Data'] == '2021-08-02', 'id chamado'].count()\n",
    "\n",
    "print(f'Houve {qnt_call_sunday_3:_.0f} chamados no dia 01/08/2021, que foi um domingo'.replace('.', ',').replace('_', '.') + '.')\n",
    "print(f'Houve {qnt_call_monday_3:_.0f} chamados no dia 02/08/2021, que foi uma segunda-feira'.replace('.', ',').replace('_', '.') + '.')"
   ]
  },
  {
   "cell_type": "code",
   "execution_count": 34,
   "metadata": {},
   "outputs": [
    {
     "data": {
      "text/html": [
       "<div>\n",
       "<style scoped>\n",
       "    .dataframe tbody tr th:only-of-type {\n",
       "        vertical-align: middle;\n",
       "    }\n",
       "\n",
       "    .dataframe tbody tr th {\n",
       "        vertical-align: top;\n",
       "    }\n",
       "\n",
       "    .dataframe thead th {\n",
       "        text-align: right;\n",
       "    }\n",
       "</style>\n",
       "<table border=\"1\" class=\"dataframe\">\n",
       "  <thead>\n",
       "    <tr style=\"text-align: right;\">\n",
       "      <th></th>\n",
       "      <th>Time</th>\n",
       "      <th>TMI</th>\n",
       "    </tr>\n",
       "  </thead>\n",
       "  <tbody>\n",
       "    <tr>\n",
       "      <th>0</th>\n",
       "      <td>Alfa</td>\n",
       "      <td>64.0</td>\n",
       "    </tr>\n",
       "    <tr>\n",
       "      <th>1</th>\n",
       "      <td>Beta</td>\n",
       "      <td>5514.0</td>\n",
       "    </tr>\n",
       "    <tr>\n",
       "      <th>2</th>\n",
       "      <td>Sigma</td>\n",
       "      <td>73.0</td>\n",
       "    </tr>\n",
       "  </tbody>\n",
       "</table>\n",
       "</div>"
      ],
      "text/plain": [
       "    Time     TMI\n",
       "0   Alfa    64.0\n",
       "1   Beta  5514.0\n",
       "2  Sigma    73.0"
      ]
     },
     "metadata": {},
     "output_type": "display_data"
    },
    {
     "data": {
      "text/html": [
       "<div>\n",
       "<style scoped>\n",
       "    .dataframe tbody tr th:only-of-type {\n",
       "        vertical-align: middle;\n",
       "    }\n",
       "\n",
       "    .dataframe tbody tr th {\n",
       "        vertical-align: top;\n",
       "    }\n",
       "\n",
       "    .dataframe thead th {\n",
       "        text-align: right;\n",
       "    }\n",
       "</style>\n",
       "<table border=\"1\" class=\"dataframe\">\n",
       "  <thead>\n",
       "    <tr style=\"text-align: right;\">\n",
       "      <th></th>\n",
       "      <th>Time</th>\n",
       "      <th>TMI</th>\n",
       "    </tr>\n",
       "  </thead>\n",
       "  <tbody>\n",
       "    <tr>\n",
       "      <th>0</th>\n",
       "      <td>Alfa</td>\n",
       "      <td>102.0</td>\n",
       "    </tr>\n",
       "    <tr>\n",
       "      <th>1</th>\n",
       "      <td>Beta</td>\n",
       "      <td>532.0</td>\n",
       "    </tr>\n",
       "    <tr>\n",
       "      <th>2</th>\n",
       "      <td>Delta</td>\n",
       "      <td>141.0</td>\n",
       "    </tr>\n",
       "    <tr>\n",
       "      <th>3</th>\n",
       "      <td>Sigma</td>\n",
       "      <td>105.0</td>\n",
       "    </tr>\n",
       "  </tbody>\n",
       "</table>\n",
       "</div>"
      ],
      "text/plain": [
       "    Time    TMI\n",
       "0   Alfa  102.0\n",
       "1   Beta  532.0\n",
       "2  Delta  141.0\n",
       "3  Sigma  105.0"
      ]
     },
     "metadata": {},
     "output_type": "display_data"
    }
   ],
   "source": [
    "# Verifique os times que trabalharam no domingo (01/08/2021) e segunda (02/08/2021):\n",
    "qnt_team_sunday = data.loc[data['Data'] == '2021-08-01', ['Data','Time', 'TMI']].groupby('Time').mean().reset_index()\n",
    "display(round(qnt_team_sunday))\n",
    "\n",
    "qnt_team_monday = data.loc[data['Data'] == '2021-08-02', ['Data','Time', 'TMI']].groupby('Time').mean().reset_index()\n",
    "display(round(qnt_team_monday))"
   ]
  },
  {
   "attachments": {},
   "cell_type": "markdown",
   "metadata": {},
   "source": [
    "- Conclusão:\n",
    "-> Lembrete: os chamados realizados aos domingos a partir de julho de 2021 tiveram TMI muito elevados                        (fonte: página 2 do dashbord no google studio). \n",
    "-> Após analisar o número de chamados dos domingos com, por exemplo, do dia seguinte (2ª feira), notou-se que houve pelo menos 8x menos chamados no domingo em relação a segunda. Isso se repetiu nas outras semanas.\n",
    "-> Logo, se há menor demanda nos domingos e o serviço não é ágil, provavelmente, o número de encantadores foi insuficiente nesse dia da semana (domingo).\n",
    "-> Elimina-se a hipótese de trocar a equipe/encantadores que trabalham domingo, pois há integrantes da equipe alfa e sigma cujo TMI foi excelente."
   ]
  }
 ],
 "metadata": {
  "kernelspec": {
   "display_name": "Python 3",
   "language": "python",
   "name": "python3"
  },
  "language_info": {
   "codemirror_mode": {
    "name": "ipython",
    "version": 3
   },
   "file_extension": ".py",
   "mimetype": "text/x-python",
   "name": "python",
   "nbconvert_exporter": "python",
   "pygments_lexer": "ipython3",
   "version": "3.8.5"
  }
 },
 "nbformat": 4,
 "nbformat_minor": 4
}
